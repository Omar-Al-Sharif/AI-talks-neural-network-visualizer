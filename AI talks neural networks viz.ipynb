{
 "cells": [
  {
   "cell_type": "code",
   "execution_count": 1,
   "metadata": {},
   "outputs": [
    {
     "data": {
      "text/html": [
       "<style type=\"text/css\">\n",
       "</style>\n",
       "<table id=\"T_62314\">\n",
       "  <thead>\n",
       "    <tr>\n",
       "      <th id=\"T_62314_level0_col0\" class=\"col_heading level0 col0\" >الغرف</th>\n",
       "      <th id=\"T_62314_level0_col1\" class=\"col_heading level0 col1\" >الحمامات</th>\n",
       "      <th id=\"T_62314_level0_col2\" class=\"col_heading level0 col2\" >المساحة</th>\n",
       "      <th id=\"T_62314_level0_col3\" class=\"col_heading level0 col3\" >السعر</th>\n",
       "    </tr>\n",
       "  </thead>\n",
       "  <tbody>\n",
       "    <tr>\n",
       "      <td id=\"T_62314_row0_col0\" class=\"data row0 col0\" >2</td>\n",
       "      <td id=\"T_62314_row0_col1\" class=\"data row0 col1\" >1</td>\n",
       "      <td id=\"T_62314_row0_col2\" class=\"data row0 col2\" >60</td>\n",
       "      <td id=\"T_62314_row0_col3\" class=\"data row0 col3\" >1,200,000</td>\n",
       "    </tr>\n",
       "    <tr>\n",
       "      <td id=\"T_62314_row1_col0\" class=\"data row1 col0\" >3</td>\n",
       "      <td id=\"T_62314_row1_col1\" class=\"data row1 col1\" >2</td>\n",
       "      <td id=\"T_62314_row1_col2\" class=\"data row1 col2\" >190</td>\n",
       "      <td id=\"T_62314_row1_col3\" class=\"data row1 col3\" >1,600,000</td>\n",
       "    </tr>\n",
       "    <tr>\n",
       "      <td id=\"T_62314_row2_col0\" class=\"data row2 col0\" >4</td>\n",
       "      <td id=\"T_62314_row2_col1\" class=\"data row2 col1\" >3</td>\n",
       "      <td id=\"T_62314_row2_col2\" class=\"data row2 col2\" >300</td>\n",
       "      <td id=\"T_62314_row2_col3\" class=\"data row2 col3\" >3,400,000</td>\n",
       "    </tr>\n",
       "    <tr>\n",
       "      <td id=\"T_62314_row3_col0\" class=\"data row3 col0\" >6</td>\n",
       "      <td id=\"T_62314_row3_col1\" class=\"data row3 col1\" >4</td>\n",
       "      <td id=\"T_62314_row3_col2\" class=\"data row3 col2\" >450</td>\n",
       "      <td id=\"T_62314_row3_col3\" class=\"data row3 col3\" >3,750,000</td>\n",
       "    </tr>\n",
       "  </tbody>\n",
       "</table>\n"
      ],
      "text/plain": [
       "<pandas.io.formats.style.Styler at 0x23bb67f9850>"
      ]
     },
     "execution_count": 1,
     "metadata": {},
     "output_type": "execute_result"
    }
   ],
   "source": [
    "import pandas as pd\n",
    "df = pd.read_csv('Houses-Price-cairo-Egypt.csv')\n",
    "rows_to_select = ['Location_City','Bed_Rooms','Bath_Rooms', 'Home_Space_SQM','Property_price_EGP']\n",
    "df = df[rows_to_select]\n",
    "nasr_city = df[df['Location_City'] == 'Nasr City']\n",
    "nasr_city = nasr_city.sort_values(by='Property_price_EGP').reset_index()\n",
    "nasr_city = nasr_city.drop(['Location_City', 'index'], axis=1).replace(',','', regex=True)\n",
    "nasr_city = nasr_city.astype(int)\n",
    "filtered_nasr_city = pd.DataFrame(columns=nasr_city.columns)\n",
    "filtered_nasr_city = pd.concat([filtered_nasr_city, nasr_city.iloc[[0]]], ignore_index=True)\n",
    "for i in range(1, len(nasr_city)):\n",
    "    if (nasr_city.iloc[i] > filtered_nasr_city.iloc[-1]).all():\n",
    "        filtered_nasr_city = pd.concat([filtered_nasr_city, nasr_city.iloc[[i]]], ignore_index=True)\n",
    "nasr_city = filtered_nasr_city.copy(deep=True)\n",
    "new_columns = ['الغرف', 'الحمامات', 'المساحة', 'السعر']\n",
    "nasr_city.columns = new_columns\n",
    "nasr_city['السعر'] = nasr_city['السعر'].apply(lambda x: f\"{x:,}\")\n",
    "nasr_city.style.hide(axis=\"index\") "
   ]
  },
  {
   "cell_type": "code",
   "execution_count": 2,
   "metadata": {},
   "outputs": [
    {
     "data": {
      "image/png": "[encoded data removed]",
      "text/plain": [
       "<IPython.core.display.Image object>"
      ]
     },
     "execution_count": 2,
     "metadata": {
      "image/png": {
       "height": 500,
       "width": 500
      }
     },
     "output_type": "execute_result"
    }
   ],
   "source": [
    "from keras import models, layers\n",
    "import IPython\n",
    "from ai_talks_utils import *\n",
    "\n",
    "model = models.Sequential([\n",
    "    layers.Input((3,)),\n",
    "    layers.Dense(2, activation='softmax'),\n",
    "    layers.Dense(1)\n",
    "])\n",
    "\n",
    "IPython.display.Image(filename=ai_talks_visualizer(model), width=500, height=500)"
   ]
  },
  {
   "cell_type": "code",
   "execution_count": 3,
   "metadata": {},
   "outputs": [
    {
     "name": "stdout",
     "output_type": "stream",
     "text": [
      "11 parameters\n"
     ]
    }
   ],
   "source": [
    "print(model.count_params(), 'parameters')"
   ]
  },
  {
   "cell_type": "code",
   "execution_count": 4,
   "metadata": {},
   "outputs": [
    {
     "name": "stdout",
     "output_type": "stream",
     "text": [
      "Error deleting ./.git: [WinError 5] Access is denied: './.git'\n",
      "Deleted: ./model_no_labels.png\n",
      "Deleted: ./neural_network\n",
      "Deleted: ./neural_network.dot\n",
      "Deleted: ./nn_no_labels\n",
      "Error deleting ./__pycache__: [WinError 5] Access is denied: './__pycache__'\n"
     ]
    }
   ],
   "source": [
    "directory_path = './'\n",
    "clean_dir(directory_path)"
   ]
  }
 ],
 "metadata": {
  "kernelspec": {
   "display_name": "Python 3",
   "language": "python",
   "name": "python3"
  },
  "language_info": {
   "codemirror_mode": {
    "name": "ipython",
    "version": 3
   },
   "file_extension": ".py",
   "mimetype": "text/x-python",
   "name": "python",
   "nbconvert_exporter": "python",
   "pygments_lexer": "ipython3",
   "version": "3.12.4"
  }
 },
 "nbformat": 4,
 "nbformat_minor": 2
}
